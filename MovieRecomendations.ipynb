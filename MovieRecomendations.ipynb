{
 "cells": [
  {
   "cell_type": "code",
   "execution_count": 1,
   "id": "52b8fd64-12d6-4c2e-a2ce-38cc88348c30",
   "metadata": {},
   "outputs": [
    {
     "name": "stdout",
     "output_type": "stream",
     "text": [
      " Enter 1 for movie recomendations\n",
      " Enter 0 for exiting \n"
     ]
    },
    {
     "name": "stdin",
     "output_type": "stream",
     "text": [
      "Enter 0 or 1 for options  1\n",
      "Enter your name :  Sai\n"
     ]
    },
    {
     "name": "stdout",
     "output_type": "stream",
     "text": [
      "Recommendations for Sai: Kanche, Dasara, saripodha shanivaram\n"
     ]
    },
    {
     "name": "stdin",
     "output_type": "stream",
     "text": [
      "Enter 0 or 1 for options  1\n",
      "Enter your name :  Pranith\n"
     ]
    },
    {
     "name": "stdout",
     "output_type": "stream",
     "text": [
      "Recommendations for Pranith: Eega, Jersey\n"
     ]
    },
    {
     "name": "stdin",
     "output_type": "stream",
     "text": [
      "Enter 0 or 1 for options  1\n",
      "Enter your name :  Ram\n"
     ]
    },
    {
     "name": "stdout",
     "output_type": "stream",
     "text": [
      "No preferences found for Ram.\n"
     ]
    },
    {
     "name": "stdin",
     "output_type": "stream",
     "text": [
      "Enter 0 or 1 for options  0\n"
     ]
    },
    {
     "name": "stdout",
     "output_type": "stream",
     "text": [
      "Exiting the movie recommendation system. Goodbye!\n"
     ]
    }
   ],
   "source": [
    "# List of movies as dictionaries\n",
    "movies = [\n",
    "    {\"title\": \"saripodha shanivaram\", \"genre\": \"Action\"},\n",
    "    {\"title\": \"Eega\", \"genre\": \"Fantasy\"},\n",
    "    {\"title\": \"Kanche\", \"genre\": \"Historical\"},\n",
    "    {\"title\": \"MCA\", \"genre\": \"Drama\"},\n",
    "    {\"title\": \"BhaleBhaleMagadivoy\", \"genre\": \"Comedy\"},\n",
    "    {\"title\": \"Jersey\", \"genre\": \"Biographical\"},\n",
    "    {\"title\": \"Ninnukori\", \"genre\": \"Romance\"},\n",
    "    {\"title\": \"Dasara\", \"genre\": \"Action\"},\n",
    "]\n",
    "\n",
    "# User preferences as dictionaries\n",
    "user_preferences = {\n",
    "    \"Sai\": {\"Action\", \"Historical\"},\n",
    "    \"Sreeja\": {\"Romance\", \"Comedy\"},\n",
    "    \"Pranith\": {\"Fantasy\", \"Biographical\"},\n",
    "    \"Pranay\": {\"Action\", \"Romance\"},\n",
    "}\n",
    "\n",
    "# Function to recommend movies based on user preferences\n",
    "def recommend_movies():\n",
    "    recommendations = set()  # Using a set to avoid duplicate recommendations\n",
    "    preferred_genres = user_preferences.get(user_input)\n",
    "\n",
    "    if not preferred_genres:\n",
    "        print(f\"No preferences found for {user_input}.\")\n",
    "        return\n",
    "\n",
    "    # Loop through the list of movies and match with user preferences\n",
    "    for movie in movies:\n",
    "        if movie[\"genre\"] in preferred_genres:\n",
    "            recommendations.add(movie[\"title\"])\n",
    "\n",
    "    # Output the recommendations\n",
    "    if recommendations:\n",
    "        print(f\"Recommendations for {user_input}: {', '.join(recommendations)}\")\n",
    "    else:\n",
    "        print(f\"No movie recommendations available for {user_input}.\")\n",
    "\n",
    "# Continuous loop to ask for user input\n",
    "\n",
    "print(\" Enter 1 for movie recomendations\")\n",
    "print(\" Enter 0 for exiting \")\n",
    "while True:\n",
    "    option = int(input(\"Enter 0 or 1 for options \"))\n",
    "\n",
    "    \n",
    "    if option == 1:\n",
    "        user_input = input(\"Enter your name : \").title()\n",
    "        recommend_movies()\n",
    "    elif option == 0:\n",
    "        print(\"Exiting the movie recommendation system. Goodbye!\")\n",
    "        break\n",
    "\n",
    "   \n"
   ]
  },
  {
   "cell_type": "code",
   "execution_count": null,
   "id": "bba929c3-038c-4ed9-86c0-55d442baa1c0",
   "metadata": {},
   "outputs": [],
   "source": []
  }
 ],
 "metadata": {
  "kernelspec": {
   "display_name": "Python 3 (ipykernel)",
   "language": "python",
   "name": "python3"
  },
  "language_info": {
   "codemirror_mode": {
    "name": "ipython",
    "version": 3
   },
   "file_extension": ".py",
   "mimetype": "text/x-python",
   "name": "python",
   "nbconvert_exporter": "python",
   "pygments_lexer": "ipython3",
   "version": "3.12.4"
  }
 },
 "nbformat": 4,
 "nbformat_minor": 5
}
